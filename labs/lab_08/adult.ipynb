{
 "metadata": {
  "name": "",
  "signature": "sha256:8517800fb469dbd2c4a533758afef42133d7cd94e0b6f07e7f0a65676d85713f"
 },
 "nbformat": 3,
 "nbformat_minor": 0,
 "worksheets": [
  {
   "cells": [
    {
     "cell_type": "markdown",
     "metadata": {},
     "source": [
      "#Adult Data Set\n",
      "Prediction task is to determine whether a person makes over 50K a year.<br>\n",
      "Use this Notebook to do your exploration and modeling."
     ]
    },
    {
     "cell_type": "markdown",
     "metadata": {},
     "source": [
      "###But first, a protip"
     ]
    },
    {
     "cell_type": "code",
     "collapsed": false,
     "input": [
      "import pandas as pd"
     ],
     "language": "python",
     "metadata": {},
     "outputs": [],
     "prompt_number": 2
    },
    {
     "cell_type": "code",
     "collapsed": false,
     "input": [
      "cols = ['age',\n",
      "        'workclass',\n",
      "        'fnlwgt',\n",
      "        'education',\n",
      "        'education-num',\n",
      "        'marital-status',\n",
      "        'occupation',\n",
      "        'relationship',\n",
      "        'race',\n",
      "        'sex',\n",
      "        'capital-gain',\n",
      "        'capital-loss',\n",
      "        'hours-per-week',\n",
      "        'native-country',\n",
      "        'income']\n",
      "adult_df = pd.read_csv('http://archive.ics.uci.edu/ml/machine-learning-databases/adult/adult.data',\n",
      "                       header=0,names=cols,index_col=False)"
     ],
     "language": "python",
     "metadata": {},
     "outputs": [],
     "prompt_number": 7
    },
    {
     "cell_type": "markdown",
     "metadata": {},
     "source": [
      "###Now, you're on your own."
     ]
    },
    {
     "cell_type": "code",
     "collapsed": false,
     "input": [
      "from sklearn.preprocessing import LabelEncoder"
     ],
     "language": "python",
     "metadata": {},
     "outputs": [],
     "prompt_number": 9
    },
    {
     "cell_type": "code",
     "collapsed": false,
     "input": [
      "LabelEncoder().fit_transform(adult_df.education)"
     ],
     "language": "python",
     "metadata": {},
     "outputs": [
      {
       "metadata": {},
       "output_type": "pyout",
       "prompt_number": 11,
       "text": [
        "array([10, 12,  2, ..., 12, 12,  0])"
       ]
      }
     ],
     "prompt_number": 11
    },
    {
     "cell_type": "code",
     "collapsed": false,
     "input": [],
     "language": "python",
     "metadata": {},
     "outputs": []
    }
   ],
   "metadata": {}
  }
 ]
}