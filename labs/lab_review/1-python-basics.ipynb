{
 "metadata": {
  "name": "",
  "signature": "sha256:73147da71518f3bedf8f77bc41f591106624ddd924bc2a5f5a8f0420f2d45c01"
 },
 "nbformat": 3,
 "nbformat_minor": 0,
 "worksheets": [
  {
   "cells": [
    {
     "cell_type": "markdown",
     "metadata": {},
     "source": [
      "## Data Types:\n",
      "\n",
      "### Basic Types\n",
      "\n",
      "* int\n",
      "* bool\n",
      "* str\n",
      "\n",
      "### Collections\n",
      "\n",
      "* list\n",
      "* tuple\n",
      "* dict\n",
      "\n",
      "Python is a Scripting Language - What does that mean?\n",
      "\n",
      "Unlike many compiled languages like Java / C, In scripting languages like Python / Ruby / R etc, you don't define the type of the object.  It gets a value based on \"assignment\""
     ]
    },
    {
     "cell_type": "code",
     "collapsed": false,
     "input": [
      "myval = 5\n",
      "\n",
      "myval = \"abc\""
     ],
     "language": "python",
     "metadata": {},
     "outputs": [],
     "prompt_number": 2
    },
    {
     "cell_type": "code",
     "collapsed": false,
     "input": [],
     "language": "python",
     "metadata": {},
     "outputs": []
    },
    {
     "cell_type": "code",
     "collapsed": false,
     "input": [],
     "language": "python",
     "metadata": {},
     "outputs": []
    },
    {
     "cell_type": "markdown",
     "metadata": {},
     "source": [
      "### Everything is an Object\n",
      "\n",
      "* help(variable or value)\n",
      "* type(variable or value)\n",
      "* dir(variable or value)\n",
      "\n",
      "These three will help you understand what you can do with with variables"
     ]
    },
    {
     "cell_type": "code",
     "collapsed": false,
     "input": [],
     "language": "python",
     "metadata": {},
     "outputs": [],
     "prompt_number": 2
    },
    {
     "cell_type": "code",
     "collapsed": false,
     "input": [
      "measurements = [\n",
      "    {'city': 'Dubai', 'temp': 40},\n",
      "    {'city': 'Mumbai', 'temp': 50},\n",
      "    {'city': 'Boston', 'temp': 20}\n",
      "]"
     ],
     "language": "python",
     "metadata": {},
     "outputs": [],
     "prompt_number": 2
    },
    {
     "cell_type": "code",
     "collapsed": false,
     "input": [
      "# Now create a Dictioary of items to output the following\n",
      "\n",
      "d = {}\n"
     ],
     "language": "python",
     "metadata": {},
     "outputs": []
    },
    {
     "cell_type": "markdown",
     "metadata": {},
     "source": [
      "### Principle of Least Ashtonishment\n",
      "\n",
      "* Find length of list, string, dict\n",
      "* What are those __ methods?"
     ]
    },
    {
     "cell_type": "code",
     "collapsed": false,
     "input": [
      "d = {'a': 1, 'b': 2}"
     ],
     "language": "python",
     "metadata": {},
     "outputs": [],
     "prompt_number": 4
    },
    {
     "cell_type": "code",
     "collapsed": false,
     "input": [],
     "language": "python",
     "metadata": {},
     "outputs": [],
     "prompt_number": 7
    },
    {
     "cell_type": "code",
     "collapsed": false,
     "input": [],
     "language": "python",
     "metadata": {},
     "outputs": [],
     "prompt_number": 7
    },
    {
     "cell_type": "code",
     "collapsed": false,
     "input": [],
     "language": "python",
     "metadata": {},
     "outputs": [],
     "prompt_number": 7
    },
    {
     "cell_type": "markdown",
     "metadata": {},
     "source": [
      "### Iterating over lists in Python\n",
      "\n",
      "* for, while, do loops\n",
      "\n",
      "We will only look at for loop as that's what we will mostly use"
     ]
    },
    {
     "cell_type": "code",
     "collapsed": false,
     "input": [
      "for value in ['one', 'two', 'three']:\n",
      "    print value"
     ],
     "language": "python",
     "metadata": {},
     "outputs": [
      {
       "output_type": "stream",
       "stream": "stdout",
       "text": [
        "1\n",
        "2\n",
        "3\n"
       ]
      }
     ],
     "prompt_number": 8
    },
    {
     "cell_type": "code",
     "collapsed": false,
     "input": [
      "# To get Index and value - Tuple unpacking\n",
      "for idx, value in enumerate(['one', 'two', 'three']):\n",
      "    print idx, value"
     ],
     "language": "python",
     "metadata": {},
     "outputs": [
      {
       "output_type": "stream",
       "stream": "stdout",
       "text": [
        "0 one\n",
        "1 two\n",
        "2 three\n"
       ]
      }
     ],
     "prompt_number": 12
    },
    {
     "cell_type": "code",
     "collapsed": false,
     "input": [
      "# Iterate over a Dictionary"
     ],
     "language": "python",
     "metadata": {},
     "outputs": [],
     "prompt_number": 13
    },
    {
     "cell_type": "code",
     "collapsed": false,
     "input": [],
     "language": "python",
     "metadata": {},
     "outputs": []
    }
   ],
   "metadata": {}
  }
 ]
}