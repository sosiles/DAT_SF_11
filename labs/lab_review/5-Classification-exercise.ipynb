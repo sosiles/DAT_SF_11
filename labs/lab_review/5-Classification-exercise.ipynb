{
 "metadata": {
  "name": "",
  "signature": "sha256:cca58c0143a340a05fd0e7cb83be41c24265e5bafc756bb28c8ac3f7574e708b"
 },
 "nbformat": 3,
 "nbformat_minor": 0,
 "worksheets": [
  {
   "cells": [
    {
     "cell_type": "code",
     "collapsed": false,
     "input": [
      "# http://www.kaggle.com/c/data-science-london-scikit-learn/data"
     ],
     "language": "python",
     "metadata": {},
     "outputs": [],
     "prompt_number": 1
    },
    {
     "cell_type": "code",
     "collapsed": false,
     "input": [],
     "language": "python",
     "metadata": {},
     "outputs": []
    }
   ],
   "metadata": {}
  }
 ]
}