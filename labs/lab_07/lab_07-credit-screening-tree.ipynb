{
 "metadata": {
  "name": "",
  "signature": "sha256:df77fa43f1c63dbbf6b89ff0495a04ffb996768af64a97f4559887d55c385a80"
 },
 "nbformat": 3,
 "nbformat_minor": 0,
 "worksheets": [
  {
   "cells": [
    {
     "cell_type": "markdown",
     "metadata": {},
     "source": [
      "## Credit Scoring"
     ]
    },
    {
     "cell_type": "code",
     "collapsed": false,
     "input": [
      "# Standard imports for data analysis packages in Python\n",
      "import pandas as pd\n",
      "import numpy as np\n",
      "import seaborn as sns  # for pretty layout of plots\n",
      "import matplotlib.pyplot as plt\n",
      "from pprint import pprint  # for pretty printing\n",
      "\n",
      "# This enables inline Plots\n",
      "%matplotlib inline\n",
      "\n",
      "# Limit rows displayed in notebook\n",
      "pd.set_option('display.max_rows', 10)\n",
      "pd.set_option('display.precision', 2)"
     ],
     "language": "python",
     "metadata": {},
     "outputs": []
    },
    {
     "cell_type": "code",
     "collapsed": false,
     "input": [
      "# Import Scikit-Learn Modules we need\n",
      "from sklearn import linear_model, tree, metrics, cross_validation, grid_search"
     ],
     "language": "python",
     "metadata": {},
     "outputs": []
    },
    {
     "cell_type": "code",
     "collapsed": false,
     "input": [
      "# Let's explore Titanic Dataset - Read in the Train Dataset\n",
      "crx_data = pd.read_csv('../data/credit-screening/crx_data.csv')"
     ],
     "language": "python",
     "metadata": {},
     "outputs": []
    },
    {
     "cell_type": "code",
     "collapsed": false,
     "input": [
      "crx_data.head()"
     ],
     "language": "python",
     "metadata": {},
     "outputs": []
    },
    {
     "cell_type": "markdown",
     "metadata": {},
     "source": [
      "### Data looks strange?\n",
      "\n",
      "Do you see any thing strange with Header Row?. How do we tell read_csv that data starts at row 0"
     ]
    },
    {
     "cell_type": "code",
     "collapsed": false,
     "input": [
      "# Create a Column Array named 1 - 16\n",
      "crx_cols = []\n",
      "for idx in range(1, 17):\n",
      "    crx_cols.append('A' + str(idx))\n",
      "print crx_cols"
     ],
     "language": "python",
     "metadata": {},
     "outputs": []
    },
    {
     "cell_type": "code",
     "collapsed": false,
     "input": [
      "# Pythonic way of creating a Column Array\n",
      "crx_cols = ['A' + str(idx) for idx in range(1, 17)]\n",
      "print crx_cols"
     ],
     "language": "python",
     "metadata": {},
     "outputs": []
    },
    {
     "cell_type": "code",
     "collapsed": false,
     "input": [
      "crx_data = pd.read_csv('../data/credit-screening/crx_data.csv', names=crx_cols)"
     ],
     "language": "python",
     "metadata": {},
     "outputs": []
    },
    {
     "cell_type": "code",
     "collapsed": false,
     "input": [
      "crx_data.head()"
     ],
     "language": "python",
     "metadata": {},
     "outputs": []
    },
    {
     "cell_type": "code",
     "collapsed": false,
     "input": [
      "crx_data.info()"
     ],
     "language": "python",
     "metadata": {},
     "outputs": []
    },
    {
     "cell_type": "markdown",
     "metadata": {},
     "source": [
      "## Impute Values\n",
      "\n",
      "[The Problem statement](http://archive.ics.uci.edu/ml/machine-learning-databases/credit-screening/crx.names) defines the columns that may have missing values.  But we see all columns have a value.  What's happening here?\n",
      "\n",
      "* A1, A4, A5, A6, A7 - Class (Categorical) Variables\n",
      "* A2, A14 - Continuous Variables"
     ]
    },
    {
     "cell_type": "markdown",
     "metadata": {},
     "source": [
      "### A1 - What type of value is it?"
     ]
    },
    {
     "cell_type": "code",
     "collapsed": false,
     "input": [
      "crx_data.A1.unique()"
     ],
     "language": "python",
     "metadata": {},
     "outputs": []
    },
    {
     "cell_type": "code",
     "collapsed": false,
     "input": [
      "crx_data.A1.value_counts() / crx_data.A1.size"
     ],
     "language": "python",
     "metadata": {},
     "outputs": []
    },
    {
     "cell_type": "code",
     "collapsed": false,
     "input": [
      "def impute_a1(val):\n",
      "    return np.random.choice(['a', 'b'], p=[0.7, 0.3])"
     ],
     "language": "python",
     "metadata": {},
     "outputs": []
    },
    {
     "cell_type": "code",
     "collapsed": false,
     "input": [
      "crx_data.A1 = crx_data.A1.map(impute_a1)"
     ],
     "language": "python",
     "metadata": {},
     "outputs": []
    },
    {
     "cell_type": "code",
     "collapsed": false,
     "input": [
      "crx_data.A1.unique()"
     ],
     "language": "python",
     "metadata": {},
     "outputs": []
    },
    {
     "cell_type": "markdown",
     "metadata": {},
     "source": [
      "### Impute A4"
     ]
    },
    {
     "cell_type": "code",
     "collapsed": false,
     "input": [
      "# Your turn"
     ],
     "language": "python",
     "metadata": {},
     "outputs": []
    },
    {
     "cell_type": "markdown",
     "metadata": {},
     "source": [
      "### Impute A5 - At this point you should get tired of Imputation (DRY - Principle)"
     ]
    },
    {
     "cell_type": "code",
     "collapsed": false,
     "input": [
      "crx_data.A5.unique()"
     ],
     "language": "python",
     "metadata": {},
     "outputs": []
    },
    {
     "cell_type": "code",
     "collapsed": false,
     "input": [
      "col_dist = {}\n",
      "def get_col_dist(col_name):\n",
      "    excl_null_mask = crx_data[col_name] != '?'\n",
      "    row_count = crx_data[excl_null_mask][col_name].size\n",
      "    col_data = {}\n",
      "    col_data['prob'] = (crx_data[excl_null_mask][col_name].value_counts() / row_count).values\n",
      "    col_data['values'] = (crx_data[excl_null_mask][col_name].value_counts() / row_count).index.values\n",
      "    return col_data"
     ],
     "language": "python",
     "metadata": {},
     "outputs": []
    },
    {
     "cell_type": "code",
     "collapsed": false,
     "input": [
      "col_dist['A5'] = get_col_dist('A5')\n",
      "col_dist['A6'] = get_col_dist('A6')\n",
      "col_dist['A7'] = get_col_dist('A7')"
     ],
     "language": "python",
     "metadata": {},
     "outputs": []
    },
    {
     "cell_type": "code",
     "collapsed": false,
     "input": [
      "def impute_cols(val, options):\n",
      "    if val == '?':\n",
      "        return np.random.choice(options['values'], p=options['prob'])\n",
      "    return val"
     ],
     "language": "python",
     "metadata": {},
     "outputs": []
    },
    {
     "cell_type": "code",
     "collapsed": false,
     "input": [
      "def impute_a5(val):\n",
      "    return impute_cols(val, col_dist['A5'])\n",
      "\n",
      "def impute_a6(val):\n",
      "    return impute_cols(val, col_dist['A6'])\n",
      "\n",
      "def impute_a7(val):\n",
      "    return impute_cols(val, col_dist['A7'])"
     ],
     "language": "python",
     "metadata": {},
     "outputs": []
    },
    {
     "cell_type": "code",
     "collapsed": false,
     "input": [
      "crx_data.A5 = crx_data.A5.map(impute_a5)\n",
      "crx_data.A6 = crx_data.A6.map(impute_a6)\n",
      "crx_data.A7 = crx_data.A7.map(impute_a7)\n",
      "# crx_data.A14 = crx_data.A14.map(impute_a14)"
     ],
     "language": "python",
     "metadata": {},
     "outputs": []
    },
    {
     "cell_type": "code",
     "collapsed": false,
     "input": [
      "crx_data.A6.unique()"
     ],
     "language": "python",
     "metadata": {},
     "outputs": []
    },
    {
     "cell_type": "code",
     "collapsed": false,
     "input": [
      "crx_data.A7.unique()"
     ],
     "language": "python",
     "metadata": {},
     "outputs": []
    },
    {
     "cell_type": "markdown",
     "metadata": {},
     "source": [
      "### Impute A2, A14 - Continuous Values"
     ]
    },
    {
     "cell_type": "code",
     "collapsed": false,
     "input": [
      "crx_data.A2.unique()"
     ],
     "language": "python",
     "metadata": {},
     "outputs": []
    },
    {
     "cell_type": "code",
     "collapsed": false,
     "input": [
      "crx_data.A2 = crx_data.A2.replace('?', np.nan)"
     ],
     "language": "python",
     "metadata": {},
     "outputs": []
    },
    {
     "cell_type": "code",
     "collapsed": false,
     "input": [
      "crx_data.A2 = crx_data.A2.astype(float)"
     ],
     "language": "python",
     "metadata": {},
     "outputs": []
    },
    {
     "cell_type": "code",
     "collapsed": false,
     "input": [
      "crx_data.A2.unique()"
     ],
     "language": "python",
     "metadata": {},
     "outputs": []
    },
    {
     "cell_type": "code",
     "collapsed": false,
     "input": [
      "crx_data.A2.hist()"
     ],
     "language": "python",
     "metadata": {},
     "outputs": []
    },
    {
     "cell_type": "code",
     "collapsed": false,
     "input": [
      "crx_data.A2.isnull().sum()"
     ],
     "language": "python",
     "metadata": {},
     "outputs": []
    },
    {
     "cell_type": "code",
     "collapsed": false,
     "input": [
      "# crx_data.A2 = crx_data.A2.replace('?', np.nan)\n",
      "# crx_data.A2 = crx_data.A2.astype(float)\n",
      "a2_missing_vals = np.random.normal(crx_data.A2.mean(), crx_data.A2.std(), 12)\n",
      "crx_data.loc[crx_data.A2.isnull(), 'A2'] = a2_missing_vals\n",
      "crx_data.A2.isnull().sum()"
     ],
     "language": "python",
     "metadata": {},
     "outputs": []
    },
    {
     "cell_type": "markdown",
     "metadata": {},
     "source": [
      "### Now, do the same for A14 - "
     ]
    },
    {
     "cell_type": "code",
     "collapsed": false,
     "input": [
      "crx_data.A14.unique()"
     ],
     "language": "python",
     "metadata": {},
     "outputs": []
    },
    {
     "cell_type": "code",
     "collapsed": false,
     "input": [
      "def impute_numeric_cols(col_data, col_name):\n",
      "    na_row_count = col_data.isnull().sum()\n",
      "    impute_vals = np.random.normal(col_data.mean(), col_data.std(), na_row_count)\n",
      "    return impute_vals"
     ],
     "language": "python",
     "metadata": {},
     "outputs": []
    },
    {
     "cell_type": "code",
     "collapsed": false,
     "input": [
      "crx_data['A14'] = crx_data['A14'].replace('?', np.nan)\n",
      "crx_data['A14'] = crx_data['A14'].astype(float)\n",
      "\n",
      "na_rows_mask = crx_data['A14'].isnull()\n",
      "crx_data.loc[na_rows_mask, 'A14'] = impute_numeric_cols(crx_data['A14'], 'A14')"
     ],
     "language": "python",
     "metadata": {},
     "outputs": []
    },
    {
     "cell_type": "code",
     "collapsed": false,
     "input": [
      "crx_data.info()"
     ],
     "language": "python",
     "metadata": {},
     "outputs": []
    },
    {
     "cell_type": "code",
     "collapsed": false,
     "input": [
      "crx_data.tail()"
     ],
     "language": "python",
     "metadata": {},
     "outputs": []
    },
    {
     "cell_type": "markdown",
     "metadata": {},
     "source": [
      "### Translate Target values of - and + into numeric values 0, 1"
     ]
    },
    {
     "cell_type": "code",
     "collapsed": false,
     "input": [
      "# Replace Target value to 0 and 1.\n",
      "crx_data['A16'] = crx_data['A16'].replace('-', 0)\n",
      "crx_data['A16'] = crx_data['A16'].replace('+', 1)"
     ],
     "language": "python",
     "metadata": {},
     "outputs": []
    },
    {
     "cell_type": "code",
     "collapsed": false,
     "input": [
      "crx_data.info()"
     ],
     "language": "python",
     "metadata": {},
     "outputs": []
    },
    {
     "cell_type": "markdown",
     "metadata": {},
     "source": [
      "### Split into Features and Target"
     ]
    },
    {
     "cell_type": "code",
     "collapsed": false,
     "input": [
      "features = crx_data.ix[:, 'A1':'A15']\n",
      "target = crx_data['A16']"
     ],
     "language": "python",
     "metadata": {},
     "outputs": []
    },
    {
     "cell_type": "code",
     "collapsed": false,
     "input": [],
     "language": "python",
     "metadata": {},
     "outputs": []
    },
    {
     "cell_type": "code",
     "collapsed": false,
     "input": [
      "# Build X_data (Features) and y_data (target)\n",
      "X_data = pd.get_dummies(features)\n",
      "y_data = target.values"
     ],
     "language": "python",
     "metadata": {},
     "outputs": []
    },
    {
     "cell_type": "code",
     "collapsed": false,
     "input": [
      "X_data"
     ],
     "language": "python",
     "metadata": {},
     "outputs": []
    },
    {
     "cell_type": "code",
     "collapsed": false,
     "input": [
      "from sklearn import linear_model, tree, metrics, cross_validation, grid_search"
     ],
     "language": "python",
     "metadata": {},
     "outputs": []
    },
    {
     "cell_type": "markdown",
     "metadata": {},
     "source": [
      "### Split the data into Train / Test"
     ]
    },
    {
     "cell_type": "code",
     "collapsed": false,
     "input": [
      "X_train, X_test, y_train, y_test = cross_validation.train_test_split(X_data, y_data, random_state=12, test_size=0.2)"
     ],
     "language": "python",
     "metadata": {},
     "outputs": []
    },
    {
     "cell_type": "markdown",
     "metadata": {},
     "source": [
      "### Build a Logistics Regression"
     ]
    },
    {
     "cell_type": "code",
     "collapsed": false,
     "input": [
      "clf_lreg = linear_model.LogisticRegression()"
     ],
     "language": "python",
     "metadata": {},
     "outputs": []
    },
    {
     "cell_type": "code",
     "collapsed": false,
     "input": [
      "clf_lreg.fit(X_train, y_train)"
     ],
     "language": "python",
     "metadata": {},
     "outputs": []
    },
    {
     "cell_type": "code",
     "collapsed": false,
     "input": [
      "clf_lreg.score(X_test, y_test)"
     ],
     "language": "python",
     "metadata": {},
     "outputs": []
    },
    {
     "cell_type": "markdown",
     "metadata": {},
     "source": [
      "### Decision Tree"
     ]
    },
    {
     "cell_type": "code",
     "collapsed": false,
     "input": [
      "clf_tree = tree.DecisionTreeClassifier()"
     ],
     "language": "python",
     "metadata": {},
     "outputs": []
    },
    {
     "cell_type": "code",
     "collapsed": false,
     "input": [
      "clf_tree.fit(X_train, y_train)"
     ],
     "language": "python",
     "metadata": {},
     "outputs": []
    },
    {
     "cell_type": "code",
     "collapsed": false,
     "input": [
      "clf_tree.score(X_test, y_test)"
     ],
     "language": "python",
     "metadata": {},
     "outputs": []
    },
    {
     "cell_type": "markdown",
     "metadata": {},
     "source": [
      "### Visualize the model"
     ]
    },
    {
     "cell_type": "code",
     "collapsed": false,
     "input": [
      "from sklearn.externals.six import StringIO\n",
      "with open(\"credit-screening-tree.dot\", 'w') as f:\n",
      "    f = tree.export_graphviz(clf_tree, out_file=f)"
     ],
     "language": "python",
     "metadata": {},
     "outputs": []
    },
    {
     "cell_type": "code",
     "collapsed": false,
     "input": [
      "# !cat credit-screening-tree.dot"
     ],
     "language": "python",
     "metadata": {},
     "outputs": []
    },
    {
     "cell_type": "code",
     "collapsed": false,
     "input": [
      "import pydot\n",
      "from IPython.core.display import Image \n",
      "\n",
      "def create_tree_viz(clf, feature_names, filename):\n",
      "    dot_data = StringIO()\n",
      "    tree.export_graphviz(clf, out_file=dot_data, feature_names=feature_names) \n",
      "    graph = pydot.graph_from_dot_data(dot_data.getvalue()) \n",
      "    graph.write_png(filename) "
     ],
     "language": "python",
     "metadata": {},
     "outputs": []
    },
    {
     "cell_type": "code",
     "collapsed": false,
     "input": [
      "feature_names = X_data.columns.tolist()\n",
      "create_tree_viz(clf_tree, feature_names, 'credit-screening-tree.png')\n",
      "Image(filename='credit-screening-tree.png')"
     ],
     "language": "python",
     "metadata": {},
     "outputs": []
    },
    {
     "cell_type": "code",
     "collapsed": false,
     "input": [],
     "language": "python",
     "metadata": {},
     "outputs": []
    }
   ],
   "metadata": {}
  }
 ]
}