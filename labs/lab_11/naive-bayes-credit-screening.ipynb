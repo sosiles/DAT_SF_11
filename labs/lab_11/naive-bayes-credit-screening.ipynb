{
 "metadata": {
  "name": "",
  "signature": "sha256:3e0e10891e5a4baba261752f2fbd50426ae733e66bb2246d17bee0c3cde180a8"
 },
 "nbformat": 3,
 "nbformat_minor": 0,
 "worksheets": [
  {
   "cells": [
    {
     "cell_type": "markdown",
     "metadata": {},
     "source": [
      "## Credit Scoring"
     ]
    },
    {
     "cell_type": "code",
     "collapsed": false,
     "input": [
      "# Standard imports for data analysis packages in Python\n",
      "import pandas as pd\n",
      "import numpy as np\n",
      "import seaborn as sns  # for pretty layout of plots\n",
      "import matplotlib.pyplot as plt\n",
      "from pprint import pprint  # for pretty printing\n",
      "\n",
      "# This enables inline Plots\n",
      "%matplotlib inline\n",
      "\n",
      "# Limit rows displayed in notebook\n",
      "pd.set_option('display.max_rows', 10)\n",
      "pd.set_option('display.precision', 2)"
     ],
     "language": "python",
     "metadata": {},
     "outputs": []
    },
    {
     "cell_type": "code",
     "collapsed": false,
     "input": [
      "# Import Scikit-Learn Modules we need\n",
      "from sklearn import linear_model, tree, metrics, cross_validation, grid_search"
     ],
     "language": "python",
     "metadata": {},
     "outputs": []
    },
    {
     "cell_type": "code",
     "collapsed": false,
     "input": [
      "# Explore Credit Screening Dataset\n",
      "\n",
      "!cat '../data/credit-screening/crx_data_source.txt'"
     ],
     "language": "python",
     "metadata": {},
     "outputs": []
    },
    {
     "cell_type": "code",
     "collapsed": false,
     "input": [
      "# Let's explore Credit Scoring Dataset\n",
      "crx_data = pd.read_csv('../data/credit-screening/crx_data.csv')"
     ],
     "language": "python",
     "metadata": {},
     "outputs": []
    },
    {
     "cell_type": "code",
     "collapsed": false,
     "input": [
      "crx_data.head()"
     ],
     "language": "python",
     "metadata": {},
     "outputs": []
    },
    {
     "cell_type": "markdown",
     "metadata": {},
     "source": [
      "### Data looks strange?\n",
      "\n",
      "Do you see any thing strange with Header Row?. How do we tell read_csv that data starts at row 0"
     ]
    },
    {
     "cell_type": "code",
     "collapsed": false,
     "input": [
      "# Create a Column Array named 1 - 16\n",
      "crx_cols = []\n",
      "for idx in range(1, 17):\n",
      "    crx_cols.append('A' + str(idx))\n",
      "print crx_cols"
     ],
     "language": "python",
     "metadata": {},
     "outputs": []
    },
    {
     "cell_type": "code",
     "collapsed": false,
     "input": [
      "# Pythonic way of creating a Column Array\n",
      "crx_cols = ['A' + str(idx) for idx in range(1, 17)]\n",
      "print crx_cols"
     ],
     "language": "python",
     "metadata": {},
     "outputs": []
    },
    {
     "cell_type": "code",
     "collapsed": false,
     "input": [
      "crx_data = pd.read_csv('../data/credit-screening/crx_data.csv', names=crx_cols)"
     ],
     "language": "python",
     "metadata": {},
     "outputs": []
    },
    {
     "cell_type": "code",
     "collapsed": false,
     "input": [
      "crx_data.head()"
     ],
     "language": "python",
     "metadata": {},
     "outputs": []
    },
    {
     "cell_type": "code",
     "collapsed": false,
     "input": [
      "crx_data.info()"
     ],
     "language": "python",
     "metadata": {},
     "outputs": []
    },
    {
     "cell_type": "markdown",
     "metadata": {},
     "source": [
      "## Impute Values\n",
      "\n",
      "[The Problem statement](http://archive.ics.uci.edu/ml/machine-learning-databases/credit-screening/crx.names) defines the columns that may have missing values.  But we see all columns have a value.  What's happening here?\n",
      "\n",
      "* A1, A4, A5, A6, A7 - Class (Categorical) Variables\n",
      "* A2, A14 - Continuous Variables"
     ]
    },
    {
     "cell_type": "markdown",
     "metadata": {},
     "source": [
      "### A1 - What type of value is it?"
     ]
    },
    {
     "cell_type": "code",
     "collapsed": false,
     "input": [
      "crx_data.A1.unique()"
     ],
     "language": "python",
     "metadata": {},
     "outputs": []
    },
    {
     "cell_type": "code",
     "collapsed": false,
     "input": [
      "crx_data.A1.value_counts() / crx_data.A1.size"
     ],
     "language": "python",
     "metadata": {},
     "outputs": []
    },
    {
     "cell_type": "code",
     "collapsed": false,
     "input": [
      "def impute_a1(val):\n",
      "    if val == '?':\n",
      "        return np.random.choice(['a', 'b'], p=[0.7, 0.3])\n",
      "    return val"
     ],
     "language": "python",
     "metadata": {},
     "outputs": []
    },
    {
     "cell_type": "code",
     "collapsed": false,
     "input": [
      "crx_data.A1 = crx_data.A1.map(impute_a1)"
     ],
     "language": "python",
     "metadata": {},
     "outputs": []
    },
    {
     "cell_type": "code",
     "collapsed": false,
     "input": [
      "crx_data.A1.unique()"
     ],
     "language": "python",
     "metadata": {},
     "outputs": []
    },
    {
     "cell_type": "markdown",
     "metadata": {},
     "source": [
      "### Impute A4"
     ]
    },
    {
     "cell_type": "code",
     "collapsed": false,
     "input": [
      "# Your turn\n",
      "crx_data.A4.unique()"
     ],
     "language": "python",
     "metadata": {},
     "outputs": []
    },
    {
     "cell_type": "markdown",
     "metadata": {},
     "source": [
      "### Impute A5 - At this point you should get tired of Imputation (DRY - Principle)"
     ]
    },
    {
     "cell_type": "code",
     "collapsed": false,
     "input": [
      "crx_data.A5.unique()"
     ],
     "language": "python",
     "metadata": {},
     "outputs": []
    },
    {
     "cell_type": "code",
     "collapsed": false,
     "input": [
      "col_dist = {}\n",
      "def get_col_dist(col_name):\n",
      "    excl_null_mask = crx_data[col_name] != '?'\n",
      "    row_count = crx_data[excl_null_mask][col_name].size\n",
      "    col_data = {}\n",
      "    col_data['prob'] = (crx_data[excl_null_mask][col_name].value_counts() / row_count).values\n",
      "    col_data['values'] = (crx_data[excl_null_mask][col_name].value_counts() / row_count).index.values\n",
      "    return col_data"
     ],
     "language": "python",
     "metadata": {},
     "outputs": []
    },
    {
     "cell_type": "code",
     "collapsed": false,
     "input": [
      "col_dist['A4'] = get_col_dist('A4')\n",
      "col_dist['A5'] = get_col_dist('A5')\n",
      "col_dist['A6'] = get_col_dist('A6')\n",
      "col_dist['A7'] = get_col_dist('A7')"
     ],
     "language": "python",
     "metadata": {},
     "outputs": []
    },
    {
     "cell_type": "code",
     "collapsed": false,
     "input": [
      "pprint(col_dist)"
     ],
     "language": "python",
     "metadata": {},
     "outputs": []
    },
    {
     "cell_type": "code",
     "collapsed": false,
     "input": [
      "def impute_cols(val, options):\n",
      "    if val == '?':\n",
      "        return np.random.choice(options['values'], p=options['prob'])\n",
      "    return val"
     ],
     "language": "python",
     "metadata": {},
     "outputs": []
    },
    {
     "cell_type": "code",
     "collapsed": false,
     "input": [
      "def impute_a4(val):\n",
      "    return impute_cols(val, col_dist['A4'])\n",
      "\n",
      "def impute_a5(val):\n",
      "    return impute_cols(val, col_dist['A5'])\n",
      "\n",
      "def impute_a6(val):\n",
      "    return impute_cols(val, col_dist['A6'])\n",
      "\n",
      "def impute_a7(val):\n",
      "    return impute_cols(val, col_dist['A7'])"
     ],
     "language": "python",
     "metadata": {},
     "outputs": []
    },
    {
     "cell_type": "code",
     "collapsed": false,
     "input": [
      "crx_data.A4 = crx_data.A4.map(impute_a4)\n",
      "crx_data.A5 = crx_data.A5.map(impute_a5)\n",
      "crx_data.A6 = crx_data.A6.map(impute_a6)\n",
      "crx_data.A7 = crx_data.A7.map(impute_a7)\n",
      "# crx_data.A14 = crx_data.A14.map(impute_a14)"
     ],
     "language": "python",
     "metadata": {},
     "outputs": []
    },
    {
     "cell_type": "code",
     "collapsed": false,
     "input": [
      "crx_data.A6.unique()"
     ],
     "language": "python",
     "metadata": {},
     "outputs": []
    },
    {
     "cell_type": "code",
     "collapsed": false,
     "input": [
      "crx_data.A7.unique()"
     ],
     "language": "python",
     "metadata": {},
     "outputs": []
    },
    {
     "cell_type": "markdown",
     "metadata": {},
     "source": [
      "### Impute A2, A14 - Continuous Values"
     ]
    },
    {
     "cell_type": "code",
     "collapsed": false,
     "input": [
      "crx_data.A2.unique()"
     ],
     "language": "python",
     "metadata": {},
     "outputs": []
    },
    {
     "cell_type": "code",
     "collapsed": false,
     "input": [
      "crx_data.A2 = crx_data.A2.replace('?', np.nan)"
     ],
     "language": "python",
     "metadata": {},
     "outputs": []
    },
    {
     "cell_type": "code",
     "collapsed": false,
     "input": [
      "crx_data.A2 = crx_data.A2.astype(float)"
     ],
     "language": "python",
     "metadata": {},
     "outputs": []
    },
    {
     "cell_type": "code",
     "collapsed": false,
     "input": [
      "crx_data.A2.unique()"
     ],
     "language": "python",
     "metadata": {},
     "outputs": []
    },
    {
     "cell_type": "code",
     "collapsed": false,
     "input": [
      "crx_data.A2.hist()"
     ],
     "language": "python",
     "metadata": {},
     "outputs": []
    },
    {
     "cell_type": "code",
     "collapsed": false,
     "input": [
      "crx_data.A2.isnull().sum()"
     ],
     "language": "python",
     "metadata": {},
     "outputs": []
    },
    {
     "cell_type": "code",
     "collapsed": false,
     "input": [
      "# crx_data.A2 = crx_data.A2.replace('?', np.nan)\n",
      "# crx_data.A2 = crx_data.A2.astype(float)\n",
      "a2_missing_vals = np.random.normal(crx_data.A2.mean(), crx_data.A2.std(), 12)\n",
      "crx_data.loc[crx_data.A2.isnull(), 'A2'] = a2_missing_vals\n",
      "crx_data.A2.isnull().sum()"
     ],
     "language": "python",
     "metadata": {},
     "outputs": []
    },
    {
     "cell_type": "markdown",
     "metadata": {},
     "source": [
      "### Now, do the same for A14 - "
     ]
    },
    {
     "cell_type": "code",
     "collapsed": false,
     "input": [
      "crx_data.A14.unique()"
     ],
     "language": "python",
     "metadata": {},
     "outputs": []
    },
    {
     "cell_type": "code",
     "collapsed": false,
     "input": [
      "def impute_numeric_cols(col_data, col_name):\n",
      "    na_row_count = col_data.isnull().sum()\n",
      "    impute_vals = np.random.normal(col_data.mean(), col_data.std(), na_row_count)\n",
      "    return impute_vals"
     ],
     "language": "python",
     "metadata": {},
     "outputs": []
    },
    {
     "cell_type": "code",
     "collapsed": false,
     "input": [
      "crx_data['A14'] = crx_data['A14'].replace('?', np.nan)\n",
      "crx_data['A14'] = crx_data['A14'].astype(float)\n",
      "\n",
      "na_rows_mask = crx_data['A14'].isnull()\n",
      "crx_data.loc[na_rows_mask, 'A14'] = impute_numeric_cols(crx_data['A14'], 'A14')"
     ],
     "language": "python",
     "metadata": {},
     "outputs": []
    },
    {
     "cell_type": "code",
     "collapsed": false,
     "input": [
      "crx_data.info()"
     ],
     "language": "python",
     "metadata": {},
     "outputs": []
    },
    {
     "cell_type": "code",
     "collapsed": false,
     "input": [
      "crx_data.tail()"
     ],
     "language": "python",
     "metadata": {},
     "outputs": []
    },
    {
     "cell_type": "markdown",
     "metadata": {},
     "source": [
      "### Translate Target values of - and + into numeric values 0, 1"
     ]
    },
    {
     "cell_type": "code",
     "collapsed": false,
     "input": [
      "# Replace Target value to 0 and 1.\n",
      "crx_data['A16'] = crx_data['A16'].replace('-', 0)\n",
      "crx_data['A16'] = crx_data['A16'].replace('+', 1)"
     ],
     "language": "python",
     "metadata": {},
     "outputs": []
    },
    {
     "cell_type": "code",
     "collapsed": false,
     "input": [
      "crx_data.info()"
     ],
     "language": "python",
     "metadata": {},
     "outputs": []
    },
    {
     "cell_type": "markdown",
     "metadata": {},
     "source": [
      "### Split into Features and Target"
     ]
    },
    {
     "cell_type": "code",
     "collapsed": false,
     "input": [
      "features = crx_data.ix[:, 'A1':'A15']\n",
      "target = crx_data['A16']"
     ],
     "language": "python",
     "metadata": {},
     "outputs": []
    },
    {
     "cell_type": "code",
     "collapsed": false,
     "input": [
      "features"
     ],
     "language": "python",
     "metadata": {},
     "outputs": []
    },
    {
     "cell_type": "code",
     "collapsed": false,
     "input": [
      "# Build X_data (Features) and y_data (target)\n",
      "X_data = pd.get_dummies(features)\n",
      "y_data = target.values"
     ],
     "language": "python",
     "metadata": {},
     "outputs": []
    },
    {
     "cell_type": "code",
     "collapsed": false,
     "input": [
      "X_data"
     ],
     "language": "python",
     "metadata": {},
     "outputs": []
    },
    {
     "cell_type": "markdown",
     "metadata": {},
     "source": [
      "### Model Building"
     ]
    },
    {
     "cell_type": "code",
     "collapsed": false,
     "input": [
      "# Scikit Imports\n",
      "from sklearn import linear_model, tree, metrics, naive_bayes, ensemble, cross_validation, grid_search"
     ],
     "language": "python",
     "metadata": {},
     "outputs": []
    },
    {
     "cell_type": "code",
     "collapsed": false,
     "input": [],
     "language": "python",
     "metadata": {},
     "outputs": []
    },
    {
     "cell_type": "markdown",
     "metadata": {},
     "source": [
      "### Split the data into Train / Test"
     ]
    },
    {
     "cell_type": "code",
     "collapsed": false,
     "input": [
      "X_train, X_test, y_train, y_test = cross_validation.train_test_split(X_data, y_data, random_state=12, test_size=0.2)"
     ],
     "language": "python",
     "metadata": {},
     "outputs": []
    },
    {
     "cell_type": "markdown",
     "metadata": {},
     "source": [
      "### Logistics Regression"
     ]
    },
    {
     "cell_type": "code",
     "collapsed": false,
     "input": [
      "clf_lreg = linear_model.LogisticRegression()"
     ],
     "language": "python",
     "metadata": {},
     "outputs": []
    },
    {
     "cell_type": "code",
     "collapsed": false,
     "input": [
      "clf_lreg.fit(X_train, y_train)"
     ],
     "language": "python",
     "metadata": {},
     "outputs": []
    },
    {
     "cell_type": "code",
     "collapsed": false,
     "input": [
      "clf_lreg.score(X_test, y_test)"
     ],
     "language": "python",
     "metadata": {},
     "outputs": []
    },
    {
     "cell_type": "markdown",
     "metadata": {},
     "source": [
      "### Decision Tree"
     ]
    },
    {
     "cell_type": "code",
     "collapsed": false,
     "input": [
      "clf_tree = tree.DecisionTreeClassifier()"
     ],
     "language": "python",
     "metadata": {},
     "outputs": []
    },
    {
     "cell_type": "code",
     "collapsed": false,
     "input": [
      "# Fit Training Data"
     ],
     "language": "python",
     "metadata": {},
     "outputs": []
    },
    {
     "cell_type": "code",
     "collapsed": false,
     "input": [
      "# clf_tree.score(X_test, y_test)"
     ],
     "language": "python",
     "metadata": {},
     "outputs": []
    },
    {
     "cell_type": "markdown",
     "metadata": {},
     "source": [
      "### Naive Bayes"
     ]
    },
    {
     "cell_type": "code",
     "collapsed": false,
     "input": [
      "from sklearn.naive_bayes import GaussianNB\n",
      "\n",
      "\n",
      "# Instantiate the estimator\n",
      "clf = GaussianNB()\n",
      "\n",
      "# Fit the estimator to the Training Data\n",
      "clf.fit(X_train, y_train)\n",
      "\n",
      "# Use the model to predict Test Data\n",
      "y_pred_nb = clf.predict(X_test)"
     ],
     "language": "python",
     "metadata": {},
     "outputs": []
    },
    {
     "cell_type": "code",
     "collapsed": false,
     "input": [
      "metrics.confusion_matrix(y_test, y_pred)"
     ],
     "language": "python",
     "metadata": {},
     "outputs": []
    },
    {
     "cell_type": "code",
     "collapsed": false,
     "input": [
      "def plot_confusion_matrix(y_pred, y):\n",
      "    plt.imshow(metrics.confusion_matrix(y, y_pred),\n",
      "               cmap=plt.cm.binary, interpolation='nearest')\n",
      "    plt.colorbar()\n",
      "    plt.xlabel('true value')\n",
      "    plt.ylabel('predicted value')\n",
      "    \n",
      "print \"classification accuracy:\", metrics.accuracy_score(y_test, y_pred)\n"
     ],
     "language": "python",
     "metadata": {},
     "outputs": []
    },
    {
     "cell_type": "code",
     "collapsed": false,
     "input": [
      "print metrics.classification_report(y_test, y_pred)"
     ],
     "language": "python",
     "metadata": {},
     "outputs": []
    },
    {
     "cell_type": "markdown",
     "metadata": {},
     "source": [
      "#### What do these mean?\n",
      "\n",
      "These are ways of taking into account not just the classification results, but the results **relative to the true category**.\n",
      "\n",
      "- $$ {\\rm accuracy} \\equiv \\frac{\\rm correct~labels}{\\rm total~samples} $$\n",
      "\n",
      "\n",
      "- $$ {\\rm precision} \\equiv \\frac{\\rm true~positives}{\\rm true~positives + false~positives} $$\n",
      "\n",
      "\n",
      "- $$ {\\rm recall} \\equiv \\frac{\\rm true~positives}{\\rm true~positives + false~negatives} $$\n",
      "\n",
      "\n",
      "- $$ F_1 \\equiv 2 \\frac{\\rm precision \\cdot recall}{\\rm precision + recall} $$\n",
      "\n",
      "The **accuracy**, **precision**, **recall**, and **f1-score** all range from 0 to 1, with 1 being optimal."
     ]
    },
    {
     "cell_type": "markdown",
     "metadata": {},
     "source": [
      "### ROC Curve"
     ]
    },
    {
     "cell_type": "code",
     "collapsed": false,
     "input": [
      "from sklearn.metrics import roc_curve\n",
      "from sklearn.metrics import auc\n",
      "\n",
      "def plot_roc_curve(target_test, target_predicted_proba):\n",
      "    fpr, tpr, thresholds = roc_curve(target_test, target_predicted_proba[:, 1\n",
      "                                                                         ])\n",
      "    roc_auc = auc(fpr, tpr)\n",
      "    \n",
      "    # Plot ROC curve\n",
      "    plt.plot(fpr, tpr, label='ROC curve (area = %0.3f)' % roc_auc)\n",
      "    plt.plot([0, 1], [0, 1], 'k--')  # random predictions curve\n",
      "    plt.xlim([0.0, 1.0])\n",
      "    plt.ylim([0.0, 1.0])\n",
      "    plt.xlabel('False Positive Rate or (1 - Specifity)')\n",
      "    plt.ylabel('True Positive Rate or (Sensitivity)')\n",
      "    plt.title('Receiver Operating Characteristic')\n",
      "    plt.legend(loc=\"lower right\")"
     ],
     "language": "python",
     "metadata": {},
     "outputs": []
    },
    {
     "cell_type": "code",
     "collapsed": false,
     "input": [
      "y_predicted_proba = clf.predict_proba(X_test)\n",
      "plot_roc_curve(y_test, y_predicted_proba)"
     ],
     "language": "python",
     "metadata": {},
     "outputs": []
    },
    {
     "cell_type": "markdown",
     "metadata": {},
     "source": [
      "### Scikit-Learn - Save Model\n",
      "\n",
      "http://scikit-learn.org/stable/modules/model_persistence.html"
     ]
    },
    {
     "cell_type": "code",
     "collapsed": false,
     "input": [
      "from sklearn.externals import joblib"
     ],
     "language": "python",
     "metadata": {},
     "outputs": []
    },
    {
     "cell_type": "code",
     "collapsed": false,
     "input": [
      "# Change the filename to anything - the extension .pkl is not only a convension\n",
      "joblib.dump(clf, 'filename.pkl')"
     ],
     "language": "python",
     "metadata": {},
     "outputs": []
    },
    {
     "cell_type": "code",
     "collapsed": false,
     "input": [
      "clf = joblib.load('filename.pkl') "
     ],
     "language": "python",
     "metadata": {},
     "outputs": []
    },
    {
     "cell_type": "code",
     "collapsed": false,
     "input": [],
     "language": "python",
     "metadata": {},
     "outputs": []
    }
   ],
   "metadata": {}
  }
 ]
}