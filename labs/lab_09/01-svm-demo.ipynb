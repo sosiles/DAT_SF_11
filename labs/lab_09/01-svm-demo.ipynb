{
 "metadata": {
  "name": "",
  "signature": "sha256:a3862a769913dfb0c247d8c67f46fed8b8997e6a8e1e8de165762c975a737c00"
 },
 "nbformat": 3,
 "nbformat_minor": 0,
 "worksheets": [
  {
   "cells": [
    {
     "cell_type": "markdown",
     "metadata": {},
     "source": [
      "<small><i>This example was adapted from from a tutorial give by [Jake Vanderplas](http://www.vanderplas.com) at PyCon 2014.</i></small>"
     ]
    },
    {
     "cell_type": "markdown",
     "metadata": {},
     "source": [
      "## SVM Demo App"
     ]
    },
    {
     "cell_type": "code",
     "collapsed": false,
     "input": [
      "!python svm_gui.py"
     ],
     "language": "python",
     "metadata": {},
     "outputs": []
    },
    {
     "cell_type": "code",
     "collapsed": false,
     "input": [],
     "language": "python",
     "metadata": {},
     "outputs": []
    }
   ],
   "metadata": {}
  }
 ]
}