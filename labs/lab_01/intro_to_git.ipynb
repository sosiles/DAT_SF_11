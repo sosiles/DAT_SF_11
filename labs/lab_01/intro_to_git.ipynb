{
 "metadata": {
  "name": "",
  "signature": "sha256:5b21b471164bc7ab953bd677e9e326e2eff62d716d73d964bbe2fd01a1e44ef1"
 },
 "nbformat": 3,
 "nbformat_minor": 0,
 "worksheets": [
  {
   "cells": [
    {
     "cell_type": "markdown",
     "metadata": {},
     "source": [
      "# GA Data Science - git overview\n",
      "\n",
      "This lab is an overview and example of `git`."
     ]
    },
    {
     "cell_type": "markdown",
     "metadata": {},
     "source": [
      "##High Level Overview\n",
      "\n",
      "- the purpose of `git` is to keep snapshots of the *'state of the filesystem'* as it changes over time\n",
      "- git stores these snapshots in a *'repository'*\n",
      "- specifically, `git` data is kept in the `.git` folder in the top-level directory of the repo\n",
      "- i.e. there is a relationship between a `git` repo and the filesystem"
     ]
    },
    {
     "cell_type": "markdown",
     "metadata": {},
     "source": [
      "There are two primary objects that are key to understanding `git`:\n",
      "#### `commit` object:\n",
      "\n",
      "- set of files (and directories) - i.e. a *'snapshot'*\n",
      "- pointer to one or more *parent* commit objects\n",
      "- unique name based on SHA1 hash\n",
      "- meta-data - e.g. commit message\n",
      "- commit process:\n",
      "    - git add [filename]\n",
      "    - git commit -m \"[insert message here]\"\n",
      "\n",
      "#### `head` object:\n",
      "\n",
      "- pointer to a `commit` object\n",
      "- each `head` has a name (i.e. the name of the branch)\n",
      "- at any given time there is a `head` that is the *'current head'*\n",
      "- the *'current head'* has the supplemental alias `HEAD`\n",
      "- by default there is a `head` called ***master*** in every repository"
     ]
    },
    {
     "cell_type": "markdown",
     "metadata": {},
     "source": [
      "A `git` repository has a particular logical structure:\n",
      "\n",
      "- think of each `commit` object as a snapshot of the file system at a point in time\n",
      "- `commit` objects are linked together, forming a *directed graph*\n",
      "- the *'initial commit'* is the root of the graph\n",
      "- `head` objects are just pointers to specific `commits`"
     ]
    },
    {
     "cell_type": "markdown",
     "metadata": {},
     "source": [
      "##`git` setup"
     ]
    },
    {
     "cell_type": "markdown",
     "metadata": {},
     "source": [
      "###Fork a repo\n",
      "Go to: http://github.com/ga-students/DAT_SF_11<br>\n",
      "and click 'Fork'"
     ]
    },
    {
     "cell_type": "code",
     "collapsed": false,
     "input": [
      "from IPython.core.display import Image\n",
      "Image(\"img/Screenshot 2014-11-18 14.47.25.png\")"
     ],
     "language": "python",
     "metadata": {},
     "outputs": [
      {
       "metadata": {},
       "output_type": "pyout",
       "png": "[encoded data removed]",
       "prompt_number": 5,
       "text": [
        "<IPython.core.display.Image at 0x106744a10>"
       ]
      }
     ],
     "prompt_number": 5
    },
    {
     "cell_type": "markdown",
     "metadata": {},
     "source": [
      "###Clone to your local machine\n",
      "Copy the clone url<br>\n",
      "In your terminal navigate to a directory where you want to work<br> \n",
      "Then type (exclue the `$`):<br><br>\n",
      "`$ git clone [clone url]`<br><br>\n",
      "This will find the repository, and copy the files (and other metadata) to your current working directory."
     ]
    },
    {
     "cell_type": "markdown",
     "metadata": {},
     "source": [
      "###Hack on\n",
      "When you make changes to your code, git will detect those changes.<br>\n",
      "Navigate to this lab.<br><br>\n",
      "`$ cd DAT_SF_11/labs/lab_01`<br><br>\n",
      "`$ ls`<br><br>\n",
      "Now, let's create a new file.<br><br>\n",
      "`$ echo hello git! > hello_git.txt`<br><br>\n",
      "See how git recognizes the change.<br><br>\n",
      "`$ git status`"
     ]
    },
    {
     "cell_type": "markdown",
     "metadata": {},
     "source": [
      "###Commit your changes\n",
      "Since we created a new file that did not previously exist, we must add it.<br><br>\n",
      "`$ git add hello_git.txt`<br><br>\n",
      "Commit this change with a useful message, describing the change.<br><br>\n",
      "`$ git commit -m 'i can haz commit history'`<br><br>\n",
      "the `-m` flag indicates that want to include a commit message inline."
     ]
    },
    {
     "cell_type": "markdown",
     "metadata": {},
     "source": [
      "###Publish your changes\n",
      "Our changes are now committed but we want to have a remote copy of our code. This will be useful when our computer falls in the toilet or if you want to collaborate with others.<br><br>\n",
      "`$ git push origin master`<br><br>\n",
      "This will take all our commits and push them to our github account on the `master` branch. Go to your repo and see the changes."
     ]
    },
    {
     "cell_type": "markdown",
     "metadata": {},
     "source": [
      "###Keep your repo up-to-date\n",
      "As the course progresses we will add labs, homework and other course material to the class repo. You will want to synchronize your local and remote versions with ours in order to have the most up-to-date content.<br>\n",
      "First, configure an upstream source.<br><br>\n",
      "`$ git remote add upstream https://github.com/ga-students/DAT_SF_11.git`<br><br>\n",
      "This tells your git where to fetch changes that you want to merge with your local branch. Let's try it out.<br><br>\n",
      "`$ git pull upstream master`<br><br>\n",
      "Using the `pull` command, we fetch all the commits from the main course repo, and merge them with our copy."
     ]
    }
   ],
   "metadata": {}
  }
 ]
}