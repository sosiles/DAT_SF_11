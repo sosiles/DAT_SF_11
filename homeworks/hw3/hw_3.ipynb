{
 "metadata": {
  "name": "",
  "signature": "sha256:c47f832542aad646e26fde87c9b421ae0196b78f2c4dfa73e5c9f46392e9783e"
 },
 "nbformat": 3,
 "nbformat_minor": 0,
 "worksheets": [
  {
   "cells": [
    {
     "cell_type": "markdown",
     "metadata": {},
     "source": [
      "#HW 3: KNN & Random Forest\n",
      "Get your data [here](https://archive.ics.uci.edu/ml/datasets/Bank+Marketing). The data is related with direct marketing campaigns of a Portuguese banking institution. The marketing campaigns were based on phone calls. Often, more than one contact to the same client was required, in order to access if the product (bank term deposit) would be ('yes') or not ('no') subscribed. There are four datasets:\n",
      "\n",
      "1) bank-additional-full.csv with all examples (41188) and 20 inputs, ordered by date (from May 2008 to November 2010)\n",
      "\n",
      "2) bank-additional.csv with 10% of the examples (4119), randomly selected from 1), and 20 inputs.\n",
      "\n",
      "3) bank-full.csv with all examples and 17 inputs, ordered by date (older version of this dataset with less inputs). \n",
      "\n",
      "4) bank.csv with 10% of the examples and 17 inputs, randomly selected from 3 (older version of this dataset with less inputs). \n",
      "\n",
      "The smallest datasets are provided to test more computationally demanding machine \n",
      "learning algorithms (e.g., SVM). \n",
      "\n",
      "The classification goal is to predict if the client will subscribe (yes/no) a term deposit (variable y)."
     ]
    },
    {
     "cell_type": "markdown",
     "metadata": {},
     "source": [
      "##Assignment\n",
      "* Preprocess your data (you may find `LabelEncoder` useful)\n",
      "* Train both KNN and Random Forest models\n",
      "* Find the best parameters by computing their learning curve (feel free to verify this with grid search)\n",
      "* Create a clasification report\n",
      "* Inspect your models, what features are most important? How might you use this information to improve model precision?\n"
     ]
    },
    {
     "cell_type": "code",
     "collapsed": false,
     "input": [],
     "language": "python",
     "metadata": {},
     "outputs": []
    }
   ],
   "metadata": {}
  }
 ]
}